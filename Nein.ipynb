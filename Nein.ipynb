{
 "cells": [
  {
   "cell_type": "code",
   "execution_count": 36,
   "metadata": {},
   "outputs": [],
   "source": [
    "file = \"data/a_example.in\"\n",
    "# file = \"data/b_should_be_easy.in\"\n",
    "# file = \"data/c_no_hurry.in\"\n",
    "# file = \"data/d_metropolis.in\""
   ]
  },
  {
   "cell_type": "code",
   "execution_count": 25,
   "metadata": {},
   "outputs": [],
   "source": [
    "\n",
    "lines = []\n",
    "with open(file, 'r') as f:\n",
    "    lines = f.read().split(sep = '\\n')\n",
    "    print(lines[-1])\n",
    "\n",
    "def validateLine(s: str) -> bool:\n",
    "    if s == '':\n",
    "        return False\n",
    "    n = list(map(int, s.split(sep = ' ')))\n",
    "    return abs(n[0] - n[2]) + abs(n[1] - n[3]) <= n[5] - n[4]\n",
    "\n",
    "\n",
    "## validating if they are all valid\n",
    "# for i, l in enumerate(lines):\n",
    "#     if not validateLine(l):\n",
    "#         print(i)\n",
    "# list(map(validateLine, lines))\n"
   ]
  },
  {
   "cell_type": "code",
   "execution_count": 40,
   "metadata": {},
   "outputs": [],
   "source": [
    "class Ride:\n",
    "    _id = 0\n",
    "    _place_begin = None\n",
    "    _place_end = None\n",
    "    _time_begin = None\n",
    "    _time_end = None\n",
    "    \n",
    "    def __init__(self, line: str, i: int):\n",
    "        \"\"\" Initialize this route based on the given line.\n",
    "        needs to contain six numbers.\n",
    "        i is the\n",
    "        \"\"\"\n",
    "        n = list(map(int, line.split(sep = ' ')))\n",
    "        self._id = i\n",
    "        self._place_begin = (n[0], n[1])\n",
    "        self._place_end = (n[2], n[3])\n",
    "        self._time_begin = n[4]\n",
    "        self._time_end = n[5]\n",
    "        \n",
    "    def __repr__(self):\n",
    "        return \"From {} to {} between {} and {}\".format(self._place_begin, self._place_end,\n",
    "                                                        self._time_begin, self._time_end)\n",
    "\n",
    "    def get_begin_time(self):\n",
    "        return self._time_begin\n",
    "\n",
    "\n",
    "\n",
    "class Car:\n",
    "    _id = 0\n",
    "    _location = (1, 1) # (x, y)\n",
    "    _destination = None\n",
    "    _rides = []\n",
    "    _world = None\n",
    "    \n",
    "    def __init__(self, i: int):\n",
    "        self._id = i\n",
    "    \n",
    "\n",
    "\n",
    "class World:\n",
    "    _size = (1, 1) # (x, y)\n",
    "    _num_cars = 1\n",
    "    _num_rides = 1\n",
    "    _bonus = 1\n",
    "    _max_timesteps = 1\n",
    "    _current_timestep = 0\n",
    "    _rides = []\n",
    "    _rides_sorted = []\n",
    "    _cars = []\n",
    "    \n",
    "    _filename = None\n",
    "    \n",
    "    def __init__(self, filename):\n",
    "        self._filename = filename[:-2] + 'out'\n",
    "        lines = []\n",
    "        with open(file, 'r') as f:\n",
    "            lines = f.read().split(sep = '\\n')[:-1]\n",
    "        \n",
    "        # assign directly readable values\n",
    "        n = list(map(int, lines[0].split(sep = ' ')))\n",
    "        self._size = (n[0], n[1])\n",
    "        self._num_cars = n[2]\n",
    "        self._num_rides = n[3]\n",
    "        self._bonus = n[4]\n",
    "        self._max_timesteps = n[5]\n",
    "\n",
    "        # read the rides in\n",
    "        for i, l in enumerate(lines[1:]):\n",
    "            if validateLine(l):\n",
    "                self._rides.append(Ride(l, i))\n",
    "                \n",
    "        # sort the rides chronologically\n",
    "        self._rides_sorted = sorted(self._rides, key = lambda x: x.get_begin_time())\n",
    "        \n",
    "\n",
    "    def get_next_rides(self):\n",
    "        # return the next 50 rides \n",
    "        return self._rides_sorted[:50]\n",
    "\n",
    "    def make_ride(self, ride_id: int):\n",
    "        self._rides_sorted[:ride_id] = self._rides_sorted[:ride_id - 1]\n",
    "\n",
    "    def make_timestep(self):\n",
    "        pass\n",
    "        \n",
    "\n",
    "\n"
   ]
  },
  {
   "cell_type": "code",
   "execution_count": 41,
   "metadata": {},
   "outputs": [
    {
     "data": {
      "text/plain": [
       "[From (3, 4) to (2, 3) between 2 and 10,\n",
       " From (0, 0) to (1, 3) between 2 and 9,\n",
       " From (1, 2) to (1, 0) between 0 and 9,\n",
       " From (2, 0) to (2, 2) between 0 and 9]"
      ]
     },
     "execution_count": 41,
     "metadata": {},
     "output_type": "execute_result"
    }
   ],
   "source": [
    "w = World(\"data/a_example.in\")"
   ]
  },
  {
   "cell_type": "code",
   "execution_count": 45,
   "metadata": {},
   "outputs": [],
   "source": [
    "sorted?"
   ]
  },
  {
   "cell_type": "code",
   "execution_count": null,
   "metadata": {},
   "outputs": [],
   "source": []
  },
  {
   "cell_type": "code",
   "execution_count": null,
   "metadata": {},
   "outputs": [],
   "source": []
  },
  {
   "cell_type": "code",
   "execution_count": null,
   "metadata": {},
   "outputs": [],
   "source": []
  },
  {
   "cell_type": "code",
   "execution_count": null,
   "metadata": {},
   "outputs": [],
   "source": []
  },
  {
   "cell_type": "code",
   "execution_count": null,
   "metadata": {},
   "outputs": [],
   "source": []
  },
  {
   "cell_type": "code",
   "execution_count": null,
   "metadata": {},
   "outputs": [],
   "source": []
  }
 ],
 "metadata": {
  "kernelspec": {
   "display_name": "Python 3",
   "language": "python",
   "name": "python3"
  },
  "language_info": {
   "codemirror_mode": {
    "name": "ipython",
    "version": 3
   },
   "file_extension": ".py",
   "mimetype": "text/x-python",
   "name": "python",
   "nbconvert_exporter": "python",
   "pygments_lexer": "ipython3",
   "version": "3.5.2"
  }
 },
 "nbformat": 4,
 "nbformat_minor": 2
}
